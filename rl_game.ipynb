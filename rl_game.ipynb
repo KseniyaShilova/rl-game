{
  "cells": [
    {
      "cell_type": "markdown",
      "metadata": {
        "id": "view-in-github",
        "colab_type": "text"
      },
      "source": [
        "<a href=\"https://colab.research.google.com/github/KseniyaShilova/rl-game/blob/main/rl_game.ipynb\" target=\"_parent\"><img src=\"https://colab.research.google.com/assets/colab-badge.svg\" alt=\"Open In Colab\"/></a>"
      ]
    },
    {
      "cell_type": "code",
      "source": [
        "import random\n",
        "from collections import deque\n",
        "\n",
        "import numpy as np\n",
        "import torch\n",
        "from gym import make\n",
        "from torch import nn\n",
        "from torch.optim import Adam, lr_scheduler"
      ],
      "metadata": {
        "id": "TmrznGhOEiEz"
      },
      "execution_count": 2,
      "outputs": []
    },
    {
      "cell_type": "code",
      "source": [
        "GAMMA = 0.99\n",
        "INITIAL_STEPS = 1024\n",
        "TRANSITIONS = 2_000_000\n",
        "STEPS_PER_UPDATE = 4\n",
        "STEPS_PER_TARGET_UPDATE = STEPS_PER_UPDATE * 1000\n",
        "BATCH_SIZE = 128\n",
        "BUFFER_SIZE = 128_000\n",
        "LEARNING_RATE = 5e-4\n",
        "DEVICE = torch.device(\"cuda\")"
      ],
      "metadata": {
        "id": "h9qsCDLlEiHs",
        "colab": {
          "base_uri": "https://localhost:8080/"
        },
        "outputId": "f5f800c6-6ddf-4e62-8088-50d7ef5ad926"
      },
      "execution_count": 3,
      "outputs": [
        {
          "output_type": "stream",
          "name": "stderr",
          "text": [
            "/usr/local/lib/python3.10/dist-packages/ipykernel/ipkernel.py:283: DeprecationWarning: `should_run_async` will not call `transform_cell` automatically in the future. Please pass the result to `transformed_cell` argument and any exception that happen during thetransform in `preprocessing_exc_tuple` in IPython 7.17 and above.\n",
            "  and should_run_async(code)\n"
          ]
        }
      ]
    },
    {
      "cell_type": "code",
      "source": [
        "!git clone https://github.com/Farama-Foundation/gym-examples\n",
        "# cd gym-examples\n",
        "\n",
        "# source .env/bin/activate\n",
        "!pip install -e ."
      ],
      "metadata": {
        "id": "VTBvHoMJEiKK",
        "colab": {
          "base_uri": "https://localhost:8080/"
        },
        "outputId": "b3996d8d-0160-4c01-cbc9-6aa45b76c0f9"
      },
      "execution_count": 7,
      "outputs": [
        {
          "output_type": "stream",
          "name": "stdout",
          "text": [
            "Cloning into 'gym-examples'...\n",
            "remote: Enumerating objects: 98, done.\u001b[K\n",
            "remote: Counting objects: 100% (59/59), done.\u001b[K\n",
            "remote: Compressing objects: 100% (36/36), done.\u001b[K\n",
            "remote: Total 98 (delta 34), reused 23 (delta 23), pack-reused 39\u001b[K\n",
            "Receiving objects: 100% (98/98), 18.43 KiB | 6.14 MiB/s, done.\n",
            "Resolving deltas: 100% (39/39), done.\n",
            "Obtaining file:///content\n",
            "\u001b[31mERROR: file:///content does not appear to be a Python project: neither 'setup.py' nor 'pyproject.toml' found.\u001b[0m\u001b[31m\n",
            "\u001b[0m"
          ]
        }
      ]
    },
    {
      "cell_type": "code",
      "source": [
        "class QModel(nn.Module):\n",
        "    def __init__(self, state_dim, action_dim, fc1=512, fc2=512):\n",
        "        super().__init__()\n",
        "        self.fc = nn.Sequential(\n",
        "            nn.Linear(state_dim, fc1),\n",
        "            nn.BatchNorm1d(fc1),\n",
        "            nn.ReLU(),\n",
        "            nn.Linear(fc1, fc2),\n",
        "            nn.BatchNorm1d(fc2),\n",
        "            nn.ReLU(),\n",
        "            nn.Linear(fc2, action_dim),\n",
        "        )\n",
        "\n",
        "    def forward(self, x):\n",
        "        return self.fc(x)\n",
        "\n",
        "    @staticmethod\n",
        "    def weights_init(m):\n",
        "        classname = m.__class__.__name__\n",
        "        if classname.find('Linear') != -1:\n",
        "            nn.init.xavier_uniform_(m.weight)\n"
      ],
      "metadata": {
        "id": "TysqpdnrEiM3"
      },
      "execution_count": 8,
      "outputs": []
    },
    {
      "cell_type": "code",
      "source": [],
      "metadata": {
        "id": "9zFUuSFGEiPq"
      },
      "execution_count": null,
      "outputs": []
    },
    {
      "cell_type": "code",
      "source": [],
      "metadata": {
        "id": "WyS23AxdEiSA"
      },
      "execution_count": null,
      "outputs": []
    },
    {
      "cell_type": "code",
      "source": [],
      "metadata": {
        "id": "WlYzreeMEiUs"
      },
      "execution_count": null,
      "outputs": []
    },
    {
      "cell_type": "code",
      "source": [],
      "metadata": {
        "id": "f9SPe1cxEiXS"
      },
      "execution_count": null,
      "outputs": []
    },
    {
      "cell_type": "code",
      "source": [],
      "metadata": {
        "id": "yw5tI1C5EiZ-"
      },
      "execution_count": null,
      "outputs": []
    },
    {
      "cell_type": "code",
      "source": [],
      "metadata": {
        "id": "CKkvjYe4Eicq"
      },
      "execution_count": null,
      "outputs": []
    },
    {
      "cell_type": "code",
      "source": [],
      "metadata": {
        "id": "yxYaneB-EifX"
      },
      "execution_count": null,
      "outputs": []
    },
    {
      "cell_type": "code",
      "source": [],
      "metadata": {
        "id": "eqg3T7B6EiiS"
      },
      "execution_count": null,
      "outputs": []
    },
    {
      "cell_type": "code",
      "source": [],
      "metadata": {
        "id": "4GboksTdEilZ"
      },
      "execution_count": null,
      "outputs": []
    },
    {
      "cell_type": "code",
      "source": [],
      "metadata": {
        "id": "w2S3pY7FEioM"
      },
      "execution_count": null,
      "outputs": []
    },
    {
      "cell_type": "code",
      "source": [],
      "metadata": {
        "id": "m8Xx7I93Eiqg"
      },
      "execution_count": null,
      "outputs": []
    },
    {
      "cell_type": "code",
      "source": [],
      "metadata": {
        "id": "dwJujSBQEisu"
      },
      "execution_count": null,
      "outputs": []
    }
  ],
  "metadata": {
    "colab": {
      "toc_visible": true,
      "provenance": [],
      "include_colab_link": true
    },
    "kernelspec": {
      "display_name": "Python 3",
      "name": "python3"
    }
  },
  "nbformat": 4,
  "nbformat_minor": 0
}